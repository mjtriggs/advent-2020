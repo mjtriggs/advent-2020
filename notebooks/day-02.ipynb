{
 "cells": [
  {
   "source": [
    "# Day 2\n",
    "## Password Verification - Experimentation Notebook"
   ],
   "cell_type": "markdown",
   "metadata": {}
  },
  {
   "cell_type": "code",
   "execution_count": 1,
   "metadata": {},
   "outputs": [],
   "source": [
    "import numpy as np"
   ]
  },
  {
   "source": [
    "### Reading in the file into a useful format"
   ],
   "cell_type": "markdown",
   "metadata": {}
  },
  {
   "cell_type": "code",
   "execution_count": 5,
   "metadata": {
    "tags": []
   },
   "outputs": [],
   "source": [
    "with open('../data/day-2.txt', 'r') as infile:\n",
    "    data = infile.readlines()\n",
    "    data = [i.split() for i in data]"
   ]
  },
  {
   "source": [
    "### Part One"
   ],
   "cell_type": "markdown",
   "metadata": {}
  },
  {
   "cell_type": "code",
   "execution_count": 13,
   "metadata": {},
   "outputs": [
    {
     "output_type": "execute_result",
     "data": {
      "text/plain": [
       "['8-9', 'n:', 'nnnnnnnnn']"
      ]
     },
     "metadata": {},
     "execution_count": 13
    }
   ],
   "source": [
    "data[0]"
   ]
  },
  {
   "cell_type": "code",
   "execution_count": 16,
   "metadata": {},
   "outputs": [
    {
     "output_type": "execute_result",
     "data": {
      "text/plain": [
       "9"
      ]
     },
     "metadata": {},
     "execution_count": 16
    }
   ],
   "source": [
    "data[0][2].count(data[0][1][0])"
   ]
  },
  {
   "cell_type": "code",
   "execution_count": 69,
   "metadata": {},
   "outputs": [],
   "source": [
    "def get_number_of_occurances(password, value):\n",
    "    \"\"\"Count the number of letters of a given value in a longer string\"\"\"\n",
    "    return password.count(value)\n",
    "\n",
    "def check_valid_password_part_one(s):\n",
    "    \"\"\"Check if passcode is value\"\"\"\n",
    "    freq = get_number_of_occurances(s[2], s[1][0])\n",
    "    min_valid, max_valid = tuple(map(int, s[0].split(\"-\")))\n",
    "    if (freq >= min_valid) & (freq <= max_valid):\n",
    "        return True\n",
    "    else:\n",
    "        return False\n"
   ]
  },
  {
   "cell_type": "code",
   "execution_count": 70,
   "metadata": {},
   "outputs": [
    {
     "output_type": "execute_result",
     "data": {
      "text/plain": [
       "True"
      ]
     },
     "metadata": {},
     "execution_count": 70
    }
   ],
   "source": [
    "check_valid_password_part_one(data[0])"
   ]
  },
  {
   "cell_type": "code",
   "execution_count": 71,
   "metadata": {},
   "outputs": [
    {
     "output_type": "execute_result",
     "data": {
      "text/plain": [
       "['16-17', 'm:', 'mmmmmmmmmxmmmmwmm']"
      ]
     },
     "metadata": {},
     "execution_count": 71
    }
   ],
   "source": [
    "data[2]"
   ]
  },
  {
   "cell_type": "code",
   "execution_count": 72,
   "metadata": {},
   "outputs": [
    {
     "output_type": "execute_result",
     "data": {
      "text/plain": [
       "538"
      ]
     },
     "metadata": {},
     "execution_count": 72
    }
   ],
   "source": [
    "sum(list(map(check_valid_password_part_one, data)))"
   ]
  },
  {
   "source": [
    "## Part Two\n",
    "\n",
    "Now, the password rules have changed:\n",
    "- The first item represents two possible locations in the final string (this is in actual number, not python place - i.e. remember to take 1 away).\n",
    "- The second item is the letter that needs to be in one and only one location of the final string\n",
    "\n",
    "We can rewrite the `check_valid_password` function, but this seems like it should be straightforward."
   ],
   "cell_type": "markdown",
   "metadata": {}
  },
  {
   "cell_type": "code",
   "execution_count": 74,
   "metadata": {},
   "outputs": [
    {
     "output_type": "execute_result",
     "data": {
      "text/plain": [
       "[['8-9', 'n:', 'nnnnnnnnn'],\n",
       " ['14-15', 'd:', 'dzjgbdwdkdhdddh'],\n",
       " ['16-17', 'm:', 'mmmmmmmmmxmmmmwmm'],\n",
       " ['7-17', 'd:', 'pmgdhpqbqdhshgtjt'],\n",
       " ['1-2', 'b:', 'mvmgzbmfbrcnr']]"
      ]
     },
     "metadata": {},
     "execution_count": 74
    }
   ],
   "source": [
    "data[0:5]"
   ]
  },
  {
   "cell_type": "code",
   "execution_count": 117,
   "metadata": {},
   "outputs": [],
   "source": [
    "def check_valid_password_part_two(s):\n",
    "    \"\"\"Check if passcode is value\"\"\"\n",
    "    freq = get_number_of_occurances(s[2], s[1][0])\n",
    "\n",
    "    # get the location that the passwords have to match\n",
    "    first_location, second_location = tuple(map(int, s[0].split(\"-\")))\n",
    "\n",
    "    # get the letter to compare\n",
    "    letter = s[1][0]\n",
    "\n",
    "    # do the comparison - \"^\" represents XOR\n",
    "    if (s[2][first_location - 1] == letter) ^ (s[2][second_location - 1] == letter):\n",
    "        return True\n",
    "    else:\n",
    "        return False"
   ]
  },
  {
   "cell_type": "code",
   "execution_count": 118,
   "metadata": {},
   "outputs": [
    {
     "output_type": "execute_result",
     "data": {
      "text/plain": [
       "False"
      ]
     },
     "metadata": {},
     "execution_count": 118
    }
   ],
   "source": [
    "check_valid_password_part_two(data[0])"
   ]
  },
  {
   "cell_type": "code",
   "execution_count": 119,
   "metadata": {},
   "outputs": [
    {
     "output_type": "execute_result",
     "data": {
      "text/plain": [
       "489"
      ]
     },
     "metadata": {},
     "execution_count": 119
    }
   ],
   "source": [
    "sum(list(map(check_valid_password_part_two, data)))"
   ]
  }
 ],
 "metadata": {
  "kernelspec": {
   "name": "python3",
   "display_name": "Python 3.7.9 64-bit ('advent': conda)",
   "metadata": {
    "interpreter": {
     "hash": "44d75ff676984a364a6e983ded00b113e0b2138dfe11d6b46b61fb50fd4c14f2"
    }
   }
  }
 },
 "nbformat": 4,
 "nbformat_minor": 2
}