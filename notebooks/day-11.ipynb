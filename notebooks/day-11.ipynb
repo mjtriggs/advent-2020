{
 "metadata": {
  "language_info": {
   "codemirror_mode": {
    "name": "ipython",
    "version": 3
   },
   "file_extension": ".py",
   "mimetype": "text/x-python",
   "name": "python",
   "nbconvert_exporter": "python",
   "pygments_lexer": "ipython3",
   "version": "3.7.9-final"
  },
  "orig_nbformat": 2,
  "kernelspec": {
   "name": "python3",
   "display_name": "Python 3"
  }
 },
 "nbformat": 4,
 "nbformat_minor": 2,
 "cells": [
  {
   "source": [
    "# Day 11 - Seating System\n",
    "## Investigation Notebook"
   ],
   "cell_type": "markdown",
   "metadata": {}
  },
  {
   "cell_type": "code",
   "execution_count": 89,
   "metadata": {},
   "outputs": [],
   "source": [
    "import numpy as np\n",
    "from collections import Counter\n",
    "import copy"
   ]
  },
  {
   "cell_type": "code",
   "execution_count": 65,
   "metadata": {},
   "outputs": [],
   "source": [
    "def load_test_data():\n",
    "    with open('../data/day-11-test.txt', 'r') as infile:\n",
    "        data = infile.read().split()\n",
    "        data = [list(i) for i in data]\n",
    "        return np.array(data)\n",
    "\n",
    "data = load_test_data()"
   ]
  },
  {
   "cell_type": "code",
   "execution_count": 66,
   "metadata": {},
   "outputs": [
    {
     "output_type": "execute_result",
     "data": {
      "text/plain": [
       "array([['L', '.', 'L', 'L', '.', 'L', 'L', '.', 'L', 'L'],\n",
       "       ['L', 'L', 'L', 'L', 'L', 'L', 'L', '.', 'L', 'L'],\n",
       "       ['L', '.', 'L', '.', 'L', '.', '.', 'L', '.', '.'],\n",
       "       ['L', 'L', 'L', 'L', '.', 'L', 'L', '.', 'L', 'L'],\n",
       "       ['L', '.', 'L', 'L', '.', 'L', 'L', '.', 'L', 'L'],\n",
       "       ['L', '.', 'L', 'L', 'L', 'L', 'L', '.', 'L', 'L'],\n",
       "       ['.', '.', 'L', '.', 'L', '.', '.', '.', '.', '.'],\n",
       "       ['L', 'L', 'L', 'L', 'L', 'L', 'L', 'L', 'L', 'L'],\n",
       "       ['L', '.', 'L', 'L', 'L', 'L', 'L', 'L', '.', 'L'],\n",
       "       ['L', '.', 'L', 'L', 'L', 'L', 'L', '.', 'L', 'L']], dtype='<U1')"
      ]
     },
     "metadata": {},
     "execution_count": 66
    }
   ],
   "source": [
    "data\n"
   ]
  },
  {
   "cell_type": "code",
   "execution_count": 133,
   "metadata": {},
   "outputs": [],
   "source": [
    "def get_adjacent_seats(data, x, y):\n",
    "\n",
    "    # get possible combinations\n",
    "    possible_combinations = [(i, j) for i in range(x - 1, x + 2) for j in range(y - 1, y + 2)]\n",
    "    invalid_combinations = []\n",
    "    # print(possible_combinations)\n",
    "\n",
    "    m_x, m_y = data.shape\n",
    "    m_x -= 1\n",
    "    m_y -= 1\n",
    "\n",
    "    for comb in possible_combinations:\n",
    "        if comb[0] < 0 or comb[1] < 0 or comb[0] > m_x or comb[1] > m_y or comb == (x, y):\n",
    "            invalid_combinations.append(comb)\n",
    "\n",
    "    for comb in invalid_combinations:\n",
    "        possible_combinations.remove(comb)\n",
    "\n",
    "    return possible_combinations \n",
    "\n",
    "\n",
    "adj = get_adjacent_seats(data, 9, 9)"
   ]
  },
  {
   "cell_type": "code",
   "execution_count": 134,
   "metadata": {},
   "outputs": [
    {
     "output_type": "stream",
     "name": "stdout",
     "text": [
      "2\n"
     ]
    }
   ],
   "source": [
    "a = Counter([data[i] for i in adj])\n",
    "data[adj[0]]\n",
    "print(a['#'])"
   ]
  },
  {
   "cell_type": "code",
   "execution_count": 136,
   "metadata": {},
   "outputs": [
    {
     "output_type": "execute_result",
     "data": {
      "text/plain": [
       "'.'"
      ]
     },
     "metadata": {},
     "execution_count": 136
    }
   ],
   "source": [
    "def change_seat(data, x, y):\n",
    "    \n",
    "    adj = Counter([data[i] for i in get_adjacent_seats(data, x, y)])\n",
    "    # print(adj)\n",
    "    if data[x, y] == '.':\n",
    "        return '.'\n",
    "    elif data[x,y] == 'L' and adj['#'] == 0:\n",
    "        return '#'\n",
    "    elif data[x,y] == '#' and adj['#'] >= 4:\n",
    "        return 'L'\n",
    "    else:\n",
    "        return data[x, y]\n",
    "\n",
    "change_seat(data, 0, 1)\n",
    "    \n",
    "\n"
   ]
  },
  {
   "cell_type": "code",
   "execution_count": 82,
   "metadata": {},
   "outputs": [
    {
     "output_type": "execute_result",
     "data": {
      "text/plain": [
       "array(['1'], dtype='<U32')"
      ]
     },
     "metadata": {},
     "execution_count": 82
    }
   ],
   "source": []
  },
  {
   "cell_type": "code",
   "execution_count": 137,
   "metadata": {},
   "outputs": [
    {
     "output_type": "execute_result",
     "data": {
      "text/plain": [
       "array([['#', '.', 'L', 'L', '.', 'L', '#', '.', '#', '#'],\n",
       "       ['#', 'L', 'L', 'L', 'L', 'L', 'L', '.', 'L', '#'],\n",
       "       ['L', '.', 'L', '.', 'L', '.', '.', 'L', '.', '.'],\n",
       "       ['#', 'L', 'L', 'L', '.', 'L', 'L', '.', 'L', '#'],\n",
       "       ['#', '.', 'L', 'L', '.', 'L', 'L', '.', 'L', 'L'],\n",
       "       ['#', '.', 'L', 'L', 'L', 'L', '#', '.', '#', '#'],\n",
       "       ['.', '.', 'L', '.', 'L', '.', '.', '.', '.', '.'],\n",
       "       ['#', 'L', 'L', 'L', 'L', 'L', 'L', 'L', 'L', '#'],\n",
       "       ['#', '.', 'L', 'L', 'L', 'L', 'L', 'L', '.', 'L'],\n",
       "       ['#', '.', '#', 'L', 'L', 'L', 'L', '.', '#', '#']], dtype='<U32')"
      ]
     },
     "metadata": {},
     "execution_count": 137
    }
   ],
   "source": [
    "def change_all_seats(data):\n",
    "    x_lim, y_lim = data.shape\n",
    "    arr = np.array([])\n",
    "    for x in range(0, x_lim):\n",
    "        for y in range(0, y_lim):\n",
    "            arr = np.append(arr, change_seat(data, x, y))\n",
    "    arr = arr.reshape(data.shape)\n",
    "    return arr\n",
    "\n",
    "change_all_seats(data)"
   ]
  },
  {
   "cell_type": "code",
   "execution_count": 88,
   "metadata": {},
   "outputs": [],
   "source": [
    "def load_data(t):\n",
    "    if t == 'test':\n",
    "        fp = '../data/day-11-test.txt'\n",
    "    elif t == 'full':\n",
    "        fp = '../data/day-11.txt'\n",
    "    else:\n",
    "        raise Exception('Invalid File Input.')\n",
    "    with open(fp, 'r') as infile:\n",
    "        data = infile.read().split()\n",
    "        data = [list(i) for i in data]\n",
    "        return np.array(data)\n",
    "\n",
    "data = load_data('test')"
   ]
  },
  {
   "cell_type": "code",
   "execution_count": 138,
   "metadata": {},
   "outputs": [
    {
     "output_type": "stream",
     "name": "stdout",
     "text": [
      "[['#' '.' '#' '#' '.' '#' '#' '.' '#' '#']\n ['#' '#' '#' '#' '#' '#' '#' '.' '#' '#']\n ['#' '.' '#' '.' '#' '.' '.' '#' '.' '.']\n ['#' '#' '#' '#' '.' '#' '#' '.' '#' '#']\n ['#' '.' '#' '#' '.' '#' '#' '.' '#' '#']\n ['#' '.' '#' '#' '#' '#' '#' '.' '#' '#']\n ['.' '.' '#' '.' '#' '.' '.' '.' '.' '.']\n ['#' '#' '#' '#' '#' '#' '#' '#' '#' '#']\n ['#' '.' '#' '#' '#' '#' '#' '#' '.' '#']\n ['#' '.' '#' '#' '#' '#' '#' '.' '#' '#']]\n[['#' '.' 'L' 'L' '.' 'L' '#' '.' '#' '#']\n ['#' 'L' 'L' 'L' 'L' 'L' 'L' '.' 'L' '#']\n ['L' '.' 'L' '.' 'L' '.' '.' 'L' '.' '.']\n ['#' 'L' 'L' 'L' '.' 'L' 'L' '.' 'L' '#']\n ['#' '.' 'L' 'L' '.' 'L' 'L' '.' 'L' 'L']\n ['#' '.' 'L' 'L' 'L' 'L' '#' '.' '#' '#']\n ['.' '.' 'L' '.' 'L' '.' '.' '.' '.' '.']\n ['#' 'L' 'L' 'L' 'L' 'L' 'L' 'L' 'L' '#']\n ['#' '.' 'L' 'L' 'L' 'L' 'L' 'L' '.' 'L']\n ['#' '.' '#' 'L' 'L' 'L' 'L' '.' '#' '#']]\n"
     ]
    }
   ],
   "source": [
    "test_data = load_data('test')\n",
    "\n",
    "with open('../data/day-11-test-2.txt', 'r') as infile:\n",
    "        test_data_2 = infile.read().split()\n",
    "        test_data_2 = np.array([list(i) for i in test_data_2])\n",
    "\n",
    "with open('../data/day-11-test-3.txt', 'r') as infile:\n",
    "        test_data_3 = infile.read().split()\n",
    "        test_data_3 = np.array([list(i) for i in test_data_3])\n",
    "\n",
    "print(test_data_2)\n",
    "print(test_data_3)"
   ]
  },
  {
   "cell_type": "code",
   "execution_count": 139,
   "metadata": {},
   "outputs": [
    {
     "output_type": "stream",
     "name": "stdout",
     "text": [
      "Original\n[['L' '.' 'L' 'L' '.' 'L' 'L' '.' 'L' 'L']\n ['L' 'L' 'L' 'L' 'L' 'L' 'L' '.' 'L' 'L']\n ['L' '.' 'L' '.' 'L' '.' '.' 'L' '.' '.']\n ['L' 'L' 'L' 'L' '.' 'L' 'L' '.' 'L' 'L']\n ['L' '.' 'L' 'L' '.' 'L' 'L' '.' 'L' 'L']\n ['L' '.' 'L' 'L' 'L' 'L' 'L' '.' 'L' 'L']\n ['.' '.' 'L' '.' 'L' '.' '.' '.' '.' '.']\n ['L' 'L' 'L' 'L' 'L' 'L' 'L' 'L' 'L' 'L']\n ['L' '.' 'L' 'L' 'L' 'L' 'L' 'L' '.' 'L']\n ['L' '.' 'L' 'L' 'L' 'L' 'L' '.' 'L' 'L']]\nIteration 1\n[['#' '.' '#' '#' '.' '#' '#' '.' '#' '#']\n ['#' '#' '#' '#' '#' '#' '#' '.' '#' '#']\n ['#' '.' '#' '.' '#' '.' '.' '#' '.' '.']\n ['#' '#' '#' '#' '.' '#' '#' '.' '#' '#']\n ['#' '.' '#' '#' '.' '#' '#' '.' '#' '#']\n ['#' '.' '#' '#' '#' '#' '#' '.' '#' '#']\n ['.' '.' '#' '.' '#' '.' '.' '.' '.' '.']\n ['#' '#' '#' '#' '#' '#' '#' '#' '#' '#']\n ['#' '.' '#' '#' '#' '#' '#' '#' '.' '#']\n ['#' '.' '#' '#' '#' '#' '#' '.' '#' '#']]\nComparison\n[['#' '.' '#' '#' '.' '#' '#' '.' '#' '#']\n ['#' '#' '#' '#' '#' '#' '#' '.' '#' '#']\n ['#' '.' '#' '.' '#' '.' '.' '#' '.' '.']\n ['#' '#' '#' '#' '.' '#' '#' '.' '#' '#']\n ['#' '.' '#' '#' '.' '#' '#' '.' '#' '#']\n ['#' '.' '#' '#' '#' '#' '#' '.' '#' '#']\n ['.' '.' '#' '.' '#' '.' '.' '.' '.' '.']\n ['#' '#' '#' '#' '#' '#' '#' '#' '#' '#']\n ['#' '.' '#' '#' '#' '#' '#' '#' '.' '#']\n ['#' '.' '#' '#' '#' '#' '#' '.' '#' '#']]\nTrue\n"
     ]
    }
   ],
   "source": [
    "print('Original')\n",
    "data = load_data('test')\n",
    "print(data)\n",
    "print('Iteration 1')\n",
    "data = change_all_seats(data)\n",
    "print(data)\n",
    "print('Comparison')\n",
    "print(test_data_2)\n",
    "print(np.array_equal(data, test_data_2))"
   ]
  },
  {
   "cell_type": "code",
   "execution_count": 140,
   "metadata": {},
   "outputs": [
    {
     "output_type": "stream",
     "name": "stdout",
     "text": [
      "[['#' '.' '#' '#' '.' '#' '#' '.' '#' '#']\n ['#' '#' '#' '#' '#' '#' '#' '.' '#' '#']\n ['#' '.' '#' '.' '#' '.' '.' '#' '.' '.']\n ['#' '#' '#' '#' '.' '#' '#' '.' '#' '#']\n ['#' '.' '#' '#' '.' '#' '#' '.' '#' '#']\n ['#' '.' '#' '#' '#' '#' '#' '.' '#' '#']\n ['.' '.' '#' '.' '#' '.' '.' '.' '.' '.']\n ['#' '#' '#' '#' '#' '#' '#' '#' '#' '#']\n ['#' '.' '#' '#' '#' '#' '#' '#' '.' '#']\n ['#' '.' '#' '#' '#' '#' '#' '.' '#' '#']]\n\n[['#' '.' 'L' 'L' '.' 'L' '#' '.' '#' '#']\n ['#' 'L' 'L' 'L' 'L' 'L' 'L' '.' 'L' '#']\n ['L' '.' 'L' '.' 'L' '.' '.' 'L' '.' '.']\n ['#' 'L' 'L' 'L' '.' 'L' 'L' '.' 'L' '#']\n ['#' '.' 'L' 'L' '.' 'L' 'L' '.' 'L' 'L']\n ['#' '.' 'L' 'L' 'L' 'L' '#' '.' '#' '#']\n ['.' '.' 'L' '.' 'L' '.' '.' '.' '.' '.']\n ['#' 'L' 'L' 'L' 'L' 'L' 'L' 'L' 'L' '#']\n ['#' '.' 'L' 'L' 'L' 'L' 'L' 'L' '.' 'L']\n ['#' '.' '#' 'L' 'L' 'L' 'L' '.' '#' '#']]\n\n[['#' '.' 'L' 'L' '.' 'L' '#' '.' '#' '#']\n ['#' 'L' 'L' 'L' 'L' 'L' 'L' '.' 'L' '#']\n ['L' '.' 'L' '.' 'L' '.' '.' 'L' '.' '.']\n ['#' 'L' 'L' 'L' '.' 'L' 'L' '.' 'L' '#']\n ['#' '.' 'L' 'L' '.' 'L' 'L' '.' 'L' 'L']\n ['#' '.' 'L' 'L' 'L' 'L' '#' '.' '#' '#']\n ['.' '.' 'L' '.' 'L' '.' '.' '.' '.' '.']\n ['#' 'L' 'L' 'L' 'L' 'L' 'L' 'L' 'L' '#']\n ['#' '.' 'L' 'L' 'L' 'L' 'L' 'L' '.' 'L']\n ['#' '.' '#' 'L' 'L' 'L' 'L' '.' '#' '#']]\n#\n#\n#\nTrue\n"
     ]
    }
   ],
   "source": [
    "print(test_data_2)\n",
    "print('')\n",
    "print(change_all_seats(test_data_2))\n",
    "print('')\n",
    "print(test_data_3)\n",
    "\n",
    "print(test_data_2[0, 6])\n",
    "print(change_seat(test_data_2, 0, 6))\n",
    "print(test_data_3[0, 6])\n",
    "\n",
    "print(np.array_equal(change_all_seats(test_data_2), test_data_3))"
   ]
  },
  {
   "cell_type": "code",
   "execution_count": 110,
   "metadata": {},
   "outputs": [
    {
     "output_type": "stream",
     "name": "stdout",
     "text": [
      "[['#' '.' 'L' 'L' '.' 'L' 'L' '.' 'L' 'L']\n ['L' 'L' 'L' 'L' 'L' 'L' 'L' '.' 'L' 'L']\n ['#' '.' 'L' '.' 'L' '.' '.' 'L' '.' '.']\n ['#' 'L' 'L' 'L' '.' 'L' 'L' '.' 'L' 'L']\n ['L' '.' 'L' 'L' '.' 'L' 'L' '.' 'L' 'L']\n ['#' '.' 'L' 'L' 'L' 'L' 'L' '.' 'L' 'L']\n ['.' '.' 'L' '.' 'L' '.' '.' '.' '.' '.']\n ['#' 'L' 'L' 'L' 'L' 'L' 'L' 'L' 'L' '#']\n ['L' '.' 'L' 'L' 'L' 'L' 'L' 'L' '.' 'L']\n ['#' '.' 'L' 'L' 'L' 'L' 'L' '.' 'L' '#']]\n8\n"
     ]
    }
   ],
   "source": [
    "data = change_all_seats(data)\n",
    "print(data)\n",
    "print(np.count_nonzero(data == '#'))"
   ]
  },
  {
   "cell_type": "code",
   "execution_count": 144,
   "metadata": {},
   "outputs": [
    {
     "output_type": "stream",
     "name": "stdout",
     "text": [
      "2386\n"
     ]
    }
   ],
   "source": [
    "def part_one():\n",
    "    data = load_data('full')\n",
    "    i = 0\n",
    "    while True:\n",
    "        old_grid = copy.deepcopy(data)\n",
    "        data = change_all_seats(data)\n",
    "        if np.array_equal(old_grid, data):\n",
    "            return np.count_nonzero(data == '#')\n",
    "\n",
    "a = part_one()\n",
    "print(a)"
   ]
  },
  {
   "cell_type": "code",
   "execution_count": null,
   "metadata": {},
   "outputs": [],
   "source": []
  }
 ]
}