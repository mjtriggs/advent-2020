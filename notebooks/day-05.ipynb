{
 "metadata": {
  "language_info": {
   "codemirror_mode": {
    "name": "ipython",
    "version": 3
   },
   "file_extension": ".py",
   "mimetype": "text/x-python",
   "name": "python",
   "nbconvert_exporter": "python",
   "pygments_lexer": "ipython3",
   "version": "3.7.9-final"
  },
  "orig_nbformat": 2,
  "kernelspec": {
   "name": "python3",
   "display_name": "Python 3"
  }
 },
 "nbformat": 4,
 "nbformat_minor": 2,
 "cells": [
  {
   "source": [
    "# Day 5\n",
    "## Experiment Notebook\n",
    "### Determining the seat on a plane"
   ],
   "cell_type": "markdown",
   "metadata": {}
  },
  {
   "cell_type": "code",
   "execution_count": 15,
   "metadata": {},
   "outputs": [
    {
     "output_type": "stream",
     "name": "stdout",
     "text": [
      "FFFBBBFRRR\n"
     ]
    }
   ],
   "source": [
    "def load_test_data():\n",
    "    with open('../data/day-5-test.txt', 'r') as infile:\n",
    "        data = infile.read().split()\n",
    "        return data\n",
    "\n",
    "print(load_test_data()[1])\n",
    "test_data = load_test_data()\n"
   ]
  },
  {
   "cell_type": "code",
   "execution_count": 12,
   "metadata": {},
   "outputs": [
    {
     "output_type": "execute_result",
     "data": {
      "text/plain": [
       "63"
      ]
     },
     "metadata": {},
     "execution_count": 12
    }
   ],
   "source": [
    "# Can this just be dine in binary?\n",
    "int('0111111', 2)"
   ]
  },
  {
   "cell_type": "code",
   "execution_count": 38,
   "metadata": {},
   "outputs": [
    {
     "output_type": "stream",
     "name": "stdout",
     "text": [
      "70\nBFFFBBF\n"
     ]
    }
   ],
   "source": [
    "def to_binary_row(letter):\n",
    "    if letter == 'F':\n",
    "        return '0'\n",
    "    else:\n",
    "        return '1'\n",
    "\n",
    "def to_binary_col(letter):\n",
    "    if letter == 'L':\n",
    "        return '0'\n",
    "    else:\n",
    "        return '1'\n",
    "\n",
    "def get_row_value(input_string):\n",
    "    return int(''.join([to_binary_row(x) for x in input_string]), 2)\n",
    "\n",
    "def get_col_value(input_string):\n",
    "    return int(''.join([to_binary_col(x) for x in input_string]), 2)\n",
    "\n",
    "print(get_value(test_data[0][0:7]))\n",
    "    \n",
    "print(test_data[0][0:7])\n"
   ]
  },
  {
   "cell_type": "code",
   "execution_count": 32,
   "metadata": {},
   "outputs": [
    {
     "output_type": "execute_result",
     "data": {
      "text/plain": [
       "567"
      ]
     },
     "metadata": {},
     "execution_count": 32
    }
   ],
   "source": [
    "def get_seat(input):\n",
    "\n",
    "    # get row\n",
    "    row = get_row_value(input[0:7])\n",
    "\n",
    "    # get seat number\n",
    "    seat_no = get_col_value(input[7:])\n",
    "\n",
    "    # output as tuple\n",
    "    return row, seat_no\n",
    "\n",
    "def get_seat_id(input):\n",
    "\n",
    "    row, seat_no = get_seat(input)\n",
    "    return row * 8 + seat_no\n",
    "\n",
    "get_seat_id(test_data[0])"
   ]
  },
  {
   "cell_type": "code",
   "execution_count": 35,
   "metadata": {},
   "outputs": [
    {
     "output_type": "execute_result",
     "data": {
      "text/plain": [
       "[567, 119, 823]"
      ]
     },
     "metadata": {},
     "execution_count": 35
    }
   ],
   "source": [
    "[get_seat_id(val) for val in test_data]"
   ]
  },
  {
   "cell_type": "code",
   "execution_count": 37,
   "metadata": {},
   "outputs": [
    {
     "output_type": "execute_result",
     "data": {
      "text/plain": [
       "102"
      ]
     },
     "metadata": {},
     "execution_count": 37
    }
   ],
   "source": [
    "get_value('BBFFBBF')"
   ]
  },
  {
   "cell_type": "code",
   "execution_count": null,
   "metadata": {},
   "outputs": [],
   "source": [
    "get_value('RLL')"
   ]
  }
 ]
}