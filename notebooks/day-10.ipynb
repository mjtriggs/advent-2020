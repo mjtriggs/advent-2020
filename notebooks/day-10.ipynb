{
 "metadata": {
  "language_info": {
   "codemirror_mode": {
    "name": "ipython",
    "version": 3
   },
   "file_extension": ".py",
   "mimetype": "text/x-python",
   "name": "python",
   "nbconvert_exporter": "python",
   "pygments_lexer": "ipython3",
   "version": "3.7.9-final"
  },
  "orig_nbformat": 2,
  "kernelspec": {
   "name": "python3",
   "display_name": "Python 3"
  }
 },
 "nbformat": 4,
 "nbformat_minor": 2,
 "cells": [
  {
   "source": [
    "# Day 10 - Adapter Array\n",
    "## Investigation Notebook"
   ],
   "cell_type": "markdown",
   "metadata": {}
  },
  {
   "cell_type": "code",
   "execution_count": 103,
   "metadata": {},
   "outputs": [],
   "source": [
    "import numpy as np\n",
    "import collections"
   ]
  },
  {
   "cell_type": "code",
   "execution_count": 7,
   "metadata": {},
   "outputs": [],
   "source": [
    "def load_data(t):\n",
    "    if t == 'test':\n",
    "        fp = '../data/day-10-test.txt'\n",
    "    elif t == 'full':\n",
    "        fp = '../data/day-10.txt'\n",
    "    else:\n",
    "        raise Exception('Invalid File Input.')\n",
    "    with open(fp, 'r') as f:\n",
    "        lines = f.readlines()\n",
    "        return np.array([int(line.strip()) for line in lines])"
   ]
  },
  {
   "cell_type": "code",
   "execution_count": 9,
   "metadata": {},
   "outputs": [],
   "source": [
    "data = load_data('test').sort()"
   ]
  },
  {
   "cell_type": "code",
   "execution_count": 17,
   "metadata": {},
   "outputs": [
    {
     "output_type": "stream",
     "name": "stdout",
     "text": [
      "Counter({1: 21, 3: 9})\n"
     ]
    }
   ],
   "source": [
    "diffs = np.ediff1d(data)\n",
    "c = collections.Counter(diffs)\n",
    "print(c)"
   ]
  },
  {
   "cell_type": "code",
   "execution_count": 68,
   "metadata": {},
   "outputs": [],
   "source": [
    "def get_jolt_differences(dat):\n",
    "    # Add 0 and max + 3 for start and final value\n",
    "    dat = np.append(dat, [0, max(dat) + 3])\n",
    "    dat.sort()\n",
    "    print(dat)\n",
    "    diffs = np.ediff1d(dat)\n",
    "    print(diffs)\n",
    "    c = coll.Counter(diffs)\n",
    "    return {1:c[1], 3:c[3]}"
   ]
  },
  {
   "cell_type": "code",
   "execution_count": 69,
   "metadata": {},
   "outputs": [
    {
     "output_type": "stream",
     "name": "stdout",
     "text": [
      "[ 0  1  2  3  4  7  8  9 10 11 14 17 18 19 20 23 24 25 28 31 32 33 34 35\n 38 39 42 45 46 47 48 49 52]\n[1 1 1 1 3 1 1 1 1 3 3 1 1 1 3 1 1 3 3 1 1 1 1 3 1 3 3 1 1 1 1 3]\n{1: 22, 3: 10}\n"
     ]
    }
   ],
   "source": [
    "test_data = load_data('test')\n",
    "a = get_jolt_differences(test_data)\n",
    "print(a)"
   ]
  },
  {
   "cell_type": "code",
   "execution_count": 70,
   "metadata": {},
   "outputs": [],
   "source": [
    "def part_one():\n",
    "    data = load_data('full')\n",
    "    r = get_jolt_differences(data)\n",
    "    print(r)\n",
    "    print('Part One:', r[1] * r[3])"
   ]
  },
  {
   "cell_type": "code",
   "execution_count": 71,
   "metadata": {},
   "outputs": [
    {
     "output_type": "stream",
     "name": "stdout",
     "text": [
      "[  0   1   2   3   6   7   8   9  10  13  14  15  16  19  22  23  24  25\n  28  29  32  33  36  39  42  43  44  45  48  49  50  53  56  57  58  59\n  62  65  68  69  70  71  72  75  78  81  82  83  84  87  90  93  94  95\n  98 101 102 103 104 107 108 109 112 113 114 115 116 119 120 121 122 123\n 126 129 130 131 132 135 138 139 140 141 144 145 148 149 150 151 152 155\n 156 157 160 163 166 167 168 169 170 173 174 175 176 179]\n[1 1 1 3 1 1 1 1 3 1 1 1 3 3 1 1 1 3 1 3 1 3 3 3 1 1 1 3 1 1 3 3 1 1 1 3 3\n 3 1 1 1 1 3 3 3 1 1 1 3 3 3 1 1 3 3 1 1 1 3 1 1 3 1 1 1 1 3 1 1 1 1 3 3 1\n 1 1 3 3 1 1 1 3 1 3 1 1 1 1 3 1 1 3 3 3 1 1 1 1 3 1 1 1 3]\n{1: 65, 3: 38}\nPart One: 2470\n"
     ]
    }
   ],
   "source": [
    "part_one()"
   ]
  },
  {
   "source": [
    "## Part Two\n",
    "\n",
    "So for each item, we need to look how many options there are one, two or three steps after it."
   ],
   "cell_type": "markdown",
   "metadata": {}
  },
  {
   "cell_type": "code",
   "execution_count": 81,
   "metadata": {},
   "outputs": [
    {
     "output_type": "execute_result",
     "data": {
      "text/plain": [
       "array([ 1,  2,  3,  4,  7,  8,  9, 10, 11, 14, 17, 18, 19, 20, 23, 24, 25,\n",
       "       28, 31, 32, 33, 34, 35, 38, 39, 42, 45, 46, 47, 48, 49])"
      ]
     },
     "metadata": {},
     "execution_count": 81
    }
   ],
   "source": [
    "data"
   ]
  },
  {
   "cell_type": "code",
   "execution_count": 79,
   "metadata": {},
   "outputs": [],
   "source": [
    "def num_possible_jumps(data, value):\n",
    "    data = data[(data > value) & (data <= value + 3)]\n",
    "    return data"
   ]
  },
  {
   "cell_type": "code",
   "execution_count": 82,
   "metadata": {},
   "outputs": [
    {
     "output_type": "execute_result",
     "data": {
      "text/plain": [
       "array([14])"
      ]
     },
     "metadata": {},
     "execution_count": 82
    }
   ],
   "source": [
    "possible_jumps(data, 11)"
   ]
  },
  {
   "source": [
    "This option isn't going to work, so I'm going to copy an example from here. I think it's really good and uses `defaultdict` which I don't think I've used before."
   ],
   "cell_type": "markdown",
   "metadata": {}
  },
  {
   "cell_type": "code",
   "execution_count": 83,
   "metadata": {},
   "outputs": [],
   "source": [
    "possibilities = coll.defaultdict(int)"
   ]
  },
  {
   "cell_type": "code",
   "execution_count": 104,
   "metadata": {},
   "outputs": [
    {
     "output_type": "stream",
     "name": "stdout",
     "text": [
      "[ 1  2  3  4  7  8  9 10 11 14 17 18 19 20 23 24 25 28 31 32 33 34 35 38\n 39 42 45 46 47 48 49]\n1740200\n"
     ]
    }
   ],
   "source": [
    "# There's 1 way of starting\n",
    "possibilities[0] = 1\n",
    "print(data)\n",
    "\n",
    "for val in data:\n",
    "    possibilities[val] = possibilities[val - 1] + possibilities[val - 2] + possibilities[val - 3] \n",
    "\n",
    "print(possibilities[max(data)])"
   ]
  },
  {
   "cell_type": "code",
   "execution_count": 110,
   "metadata": {},
   "outputs": [
    {
     "output_type": "execute_result",
     "data": {
      "text/plain": [
       "1973822685184"
      ]
     },
     "metadata": {},
     "execution_count": 110
    }
   ],
   "source": [
    "def part_two():\n",
    "    data = load_data('full')\n",
    "    data.sort()\n",
    "    possibilities = collections.defaultdict(int)\n",
    "    # intialise with 1 to represent the final possible step\n",
    "    possibilities[0] = 1\n",
    "\n",
    "    for val in data:\n",
    "        possibilities[val] = possibilities[val - 1] + possibilities[val - 2] + possibilities[val - 3] \n",
    "    \n",
    "    return possibilities[max(data)]\n",
    "\n",
    "part_two()"
   ]
  }
 ]
}