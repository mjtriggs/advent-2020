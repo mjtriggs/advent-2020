{
 "metadata": {
  "language_info": {
   "codemirror_mode": {
    "name": "ipython",
    "version": 3
   },
   "file_extension": ".py",
   "mimetype": "text/x-python",
   "name": "python",
   "nbconvert_exporter": "python",
   "pygments_lexer": "ipython3",
   "version": "3.7.9-final"
  },
  "orig_nbformat": 2,
  "kernelspec": {
   "name": "python3",
   "display_name": "Python 3"
  }
 },
 "nbformat": 4,
 "nbformat_minor": 2,
 "cells": [
  {
   "source": [
    "# Day 7 - Handy Haversacks\n",
    "## Investigation Notebook\n",
    "\n",
    "This one is _tough_. I'm going to be writing up a solution (hopefully), but I'm probably going to have to lean on the subreddit a bit for when I inevitably get stuck.\n",
    "\n",
    "### Part One - Approach\n",
    "\n",
    "We need a way to load in the data and use regex. All lines have the following format:\n",
    "\n",
    "```\n",
    "x bags contain n_1 y bag, n_2 z bags.\n",
    "```\n",
    "\n",
    "I'm not going to be able to do this today, but I think we can load in the data using some regex. After that, I want to try and work through someone else's solution using the `networkx` python library."
   ],
   "cell_type": "markdown",
   "metadata": {}
  },
  {
   "cell_type": "code",
   "execution_count": 144,
   "metadata": {},
   "outputs": [],
   "source": [
    "import re\n",
    "import networkx as nx\n",
    "import networkx.algorithms as nxa"
   ]
  },
  {
   "cell_type": "code",
   "execution_count": 5,
   "metadata": {},
   "outputs": [],
   "source": [
    "import re\n",
    "import collections"
   ]
  },
  {
   "cell_type": "code",
   "execution_count": 146,
   "metadata": {},
   "outputs": [],
   "source": [
    "# Initialise the network/graph\n",
    "G = nx.DiGraph()\n",
    "\n",
    "# Go through the input line by line\n",
    "for line in lines:\n",
    "    # Find nodes (n) and vertex/edges (v)\n",
    "    n = re.search(NODE_REGEX, line)\n",
    "    v = re.findall(VERTEX_REGEX, line)\n",
    "\n",
    "    # if the node doesn't exist in the graph yet, add it\n",
    "    if n[0] not in G.nodes:\n",
    "        G.add_node(n[0])\n",
    "\n",
    "    # if the bag can contain other bags, then add each one as an edge\n",
    "    # add the number of bags as a weight to the graph\n",
    "    if len(v) > 0:\n",
    "        for each in v:\n",
    "            inner_bag = each[1]\n",
    "            w = int(each[0])\n",
    "            if inner_bag not in G.nodes:\n",
    "                # add the node if it doesn't exist\n",
    "                G.add_node(inner_bag)\n",
    "\n",
    "            # add the edge to the graph (syntax: edge, node, weight)\n",
    "            G.add_edge(inner_bag, n[0], weight=w)"
   ]
  },
  {
   "source": [
    "We're now going to do a _depth-first search_ of the graph to see where/how often the gold bag shows up. From my understanding, it should return the total number of nodes that connect to the shiny gold bag (including itself)."
   ],
   "cell_type": "markdown",
   "metadata": {}
  },
  {
   "cell_type": "code",
   "execution_count": 147,
   "metadata": {},
   "outputs": [
    {
     "output_type": "stream",
     "name": "stdout",
     "text": [
      "142\n"
     ]
    }
   ],
   "source": [
    "nodes = nxa.dfs_tree(G, \"shiny gold\").nodes\n",
    "\n",
    "nodes = len(nodes) - 1\n",
    "print(nodes)\n"
   ]
  },
  {
   "source": [
    "From someone else's solution:\n",
    "\n",
    "https://github.com/alexander-yu/adventofcode/blob/master/problems_2020/7.py\n",
    "\n",
    "```\n",
    "def get_size(graph, bag):\n",
    "    return sum([\n",
    "        graph.edges[bag, component]['weight'] * (1 + get_size(graph, component))\n",
    "        for component in graph.successors(bag)\n",
    "    ])\n",
    "```\n",
    "\n"
   ],
   "cell_type": "markdown",
   "metadata": {}
  },
  {
   "cell_type": "code",
   "execution_count": 148,
   "metadata": {},
   "outputs": [
    {
     "output_type": "execute_result",
     "data": {
      "text/plain": [
       "[5, 4, 2, 4, 3, 1]"
      ]
     },
     "metadata": {},
     "execution_count": 148
    }
   ],
   "source": [
    "[n for n in G.successors('shiny gold')]\n",
    "\n",
    "[int(G.edges['shiny gold', component]['weight']) for component in G.successors('shiny gold')]"
   ]
  },
  {
   "cell_type": "code",
   "execution_count": 152,
   "metadata": {},
   "outputs": [
    {
     "output_type": "execute_result",
     "data": {
      "text/plain": [
       "10219"
      ]
     },
     "metadata": {},
     "execution_count": 152
    }
   ],
   "source": [
    "def get_size(graph, bag):\n",
    "    return sum([\n",
    "        int(graph.edges[bag, component]['weight']) * (1 + get_size(graph, component))\n",
    "        for component in graph.successors(bag)\n",
    "    ])\n",
    "\n",
    "# REMEMBER TO REVERSE THE NETWORK - NOT IN PROVIDED SOLUTION\n",
    "get_size(G.reverse(), 'shiny gold')"
   ]
  },
  {
   "source": [
    "That doesn't seem to want to work, so we try another solution:\n",
    "\n",
    "```\n",
    "H = G.reverse()\n",
    "def get_sum(H, node):\n",
    "    return sum(G[n][node]['weight'] * get_sum(H, n) for n in H.neighbors(node)) + 1\n",
    "\n",
    "# part2\n",
    "print(get_sum(H, \"shinygold\") - 1)\n",
    "```\n"
   ],
   "cell_type": "markdown",
   "metadata": {}
  },
  {
   "cell_type": "code",
   "execution_count": 150,
   "metadata": {},
   "outputs": [
    {
     "output_type": "execute_result",
     "data": {
      "text/plain": [
       "10219"
      ]
     },
     "metadata": {},
     "execution_count": 150
    }
   ],
   "source": [
    "H = G.reverse()\n",
    "\n",
    "def get_sum(H, node):\n",
    "    return sum(H[node][n]['weight'] * get_sum(H, n) for n in H.neighbors(node)) + 1\n",
    "\n",
    "get_sum(H, 'shiny gold') - 1"
   ]
  },
  {
   "cell_type": "code",
   "execution_count": null,
   "metadata": {},
   "outputs": [],
   "source": []
  },
  {
   "cell_type": "code",
   "execution_count": 145,
   "metadata": {},
   "outputs": [],
   "source": [
    "with open(\"../data/day-7.txt\", \"r\") as fp:\n",
    "    lines=fp.readlines()\n",
    "\n",
    "# Regex to extract the first bag\n",
    "NODE_REGEX = r'(^\\w+ \\w+)'\n",
    "m = re.search(NODE_REGEX, lines[0])\n",
    "m[0]\n",
    "\n",
    "# Regex to extract all other bags\n",
    "VERTEX_REGEX = r'(\\d+) (\\w+ \\w+)'\n",
    "v = re.findall(VERTEX_REGEX, lines[0])"
   ]
  }
 ]
}