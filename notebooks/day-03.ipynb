{
 "metadata": {
  "language_info": {
   "codemirror_mode": {
    "name": "ipython",
    "version": 3
   },
   "file_extension": ".py",
   "mimetype": "text/x-python",
   "name": "python",
   "nbconvert_exporter": "python",
   "pygments_lexer": "ipython3",
   "version": "3.7.9-final"
  },
  "orig_nbformat": 2,
  "kernelspec": {
   "name": "python3",
   "display_name": "Python 3"
  }
 },
 "nbformat": 4,
 "nbformat_minor": 2,
 "cells": [
  {
   "source": [
    "# Day Three - Toboggan\n",
    "\n",
    "## Experiment Notebook"
   ],
   "cell_type": "markdown",
   "metadata": {}
  },
  {
   "cell_type": "code",
   "execution_count": 4,
   "metadata": {},
   "outputs": [],
   "source": [
    "import numpy as np"
   ]
  },
  {
   "cell_type": "code",
   "execution_count": 68,
   "metadata": {},
   "outputs": [],
   "source": [
    "def load_data():\n",
    "    with open('../data/day-3.txt', 'r') as infile:\n",
    "        data = infile.read().splitlines()\n",
    "        return np.array(data)\n",
    "\n",
    "def load_test_data():\n",
    "    with open('../data/day-3-test.txt', 'r') as infile:\n",
    "        data = infile.read().splitlines()\n",
    "        return np.array(data)\n",
    "\n",
    "def split(word):\n",
    "    return [char for char in word]"
   ]
  },
  {
   "cell_type": "code",
   "execution_count": 74,
   "metadata": {},
   "outputs": [],
   "source": [
    "test_data = load_test_data()"
   ]
  },
  {
   "cell_type": "code",
   "execution_count": 75,
   "metadata": {},
   "outputs": [
    {
     "output_type": "execute_result",
     "data": {
      "text/plain": [
       "'#...#...#..#...#...#..#...#...#..#...#...#..#...#...#..#...#...#..'"
      ]
     },
     "metadata": {},
     "execution_count": 75
    }
   ],
   "source": [
    "test_data[1]"
   ]
  },
  {
   "source": [
    "We now have a way to load the data into the format of a numpy array. Now onto the actual problem:\n",
    "\n",
    "We want to count the number of trees that we hit by moving 1 square down and 3 to the right, starting with the top left hand corner.\n",
    "\n",
    "It would be useful to write a function that takes in:\n",
    "- starting location\n",
    "- down move size\n",
    "- across move size\n",
    "- stop condition (end of the file)\n",
    "\n",
    "We can use modular arithmetic for the repeating pattern - we don't need to create some sort of large artificial grid."
   ],
   "cell_type": "markdown",
   "metadata": {}
  },
  {
   "cell_type": "code",
   "execution_count": 76,
   "metadata": {},
   "outputs": [],
   "source": [
    "def count_trees(data, start_x = 0, start_y = 0, down_size = 1, right_size = 3):\n",
    "    \"\"\"TODO: Docstring\n",
    "    \"\"\"\n",
    "    # stop condition: when the current y value > the end\n",
    "    end = len(data) - 1\n",
    "\n",
    "    # total tree indicator\n",
    "    total_trees = 0\n",
    "\n",
    "    # Define x and y locations\n",
    "    current_x = start_x\n",
    "    current_y = start_y\n",
    "\n",
    "    # Do this in a for loop\n",
    "    while current_y < end:\n",
    "        current_x += right_size\n",
    "        current_y += down_size\n",
    "\n",
    "        # adjust y for repeating pattern\n",
    "        current_x = current_x % len(data[0])\n",
    "\n",
    "        # increment count if we crash into a tree\n",
    "        if data[current_y][current_x] == '#':\n",
    "            total_trees += 1\n",
    "\n",
    "\n",
    "    return total_trees"
   ]
  },
  {
   "cell_type": "code",
   "execution_count": 77,
   "metadata": {
    "tags": []
   },
   "outputs": [
    {
     "output_type": "execute_result",
     "data": {
      "text/plain": [
       "7"
      ]
     },
     "metadata": {},
     "execution_count": 77
    }
   ],
   "source": [
    "count_trees(test_data)"
   ]
  },
  {
   "source": [
    "This seems to work for the test data - let's run it on the real data and see!"
   ],
   "cell_type": "markdown",
   "metadata": {}
  },
  {
   "cell_type": "code",
   "execution_count": 78,
   "metadata": {},
   "outputs": [
    {
     "output_type": "execute_result",
     "data": {
      "text/plain": [
       "181"
      ]
     },
     "metadata": {},
     "execution_count": 78
    }
   ],
   "source": [
    "data = load_data()\n",
    "count_trees(data)"
   ]
  },
  {
   "source": [
    "This was the correct answer for part one.\n",
    "\n",
    "## Part Two\n",
    "\n",
    "Now we want to consider a bunch of different slopes, then multiply these values together. Good job we wrote the previous function in the way that we did! The things to check are:\n",
    "\n",
    "- Right 1, down 1.\n",
    "- Right 3, down 1. (This is the slope you already checked.)\n",
    "- Right 5, down 1.\n",
    "- Right 7, down 1.\n",
    "- Right 1, down 2.\n",
    "\n"
   ],
   "cell_type": "markdown",
   "metadata": {}
  },
  {
   "cell_type": "code",
   "execution_count": 84,
   "metadata": {},
   "outputs": [
    {
     "output_type": "execute_result",
     "data": {
      "text/plain": [
       "1260601650"
      ]
     },
     "metadata": {},
     "execution_count": 84
    }
   ],
   "source": [
    "count_trees(data, right_size=1, down_size=1) * \\\n",
    "    count_trees(data, right_size=3, down_size=1) * \\\n",
    "    count_trees(data, right_size=5, down_size=1) * \\\n",
    "    count_trees(data, right_size=7, down_size=1) * \\\n",
    "    count_trees(data, right_size=1, down_size=2)"
   ]
  }
 ]
}