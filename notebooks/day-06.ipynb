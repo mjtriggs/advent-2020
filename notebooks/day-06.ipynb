{
 "metadata": {
  "language_info": {
   "codemirror_mode": {
    "name": "ipython",
    "version": 3
   },
   "file_extension": ".py",
   "mimetype": "text/x-python",
   "name": "python",
   "nbconvert_exporter": "python",
   "pygments_lexer": "ipython3",
   "version": "3.7.9-final"
  },
  "orig_nbformat": 2,
  "kernelspec": {
   "name": "python3",
   "display_name": "Python 3"
  }
 },
 "nbformat": 4,
 "nbformat_minor": 2,
 "cells": [
  {
   "source": [
    "# Day 6 - Investigation Notebook\n",
    "\n",
    "The objective of this exercise is to read in a file with paragraph breaks for each group, and look at the number of each character in each group. We break this down as follows:\n",
    "\n",
    "1. load the data into a list, with a different group as each element in the list\n",
    "2. identify all unique characters and sum them up\n",
    "3. output the length."
   ],
   "cell_type": "markdown",
   "metadata": {}
  },
  {
   "cell_type": "code",
   "execution_count": 3,
   "metadata": {},
   "outputs": [],
   "source": [
    "import numpy as np"
   ]
  },
  {
   "cell_type": "code",
   "execution_count": 19,
   "metadata": {},
   "outputs": [],
   "source": [
    "# load data\n",
    "\n",
    "def load_test_data():\n",
    "    file_path = '../data/day-6-test.txt'\n",
    "    with open(file_path) as f:\n",
    "        lines = f.read().split(\"\\n\\n\")\n",
    "        return lines\n",
    "\n",
    "def load_data():\n",
    "    file_path = '../data/day-6.txt'\n",
    "    with open(file_path) as f:\n",
    "        lines = f.read().split(\"\\n\\n\")\n",
    "        return lines\n",
    "\n",
    "def get_unique_chars(lines):\n",
    "    return [len(set(x.replace('\\n', ''))) for x in lines]"
   ]
  },
  {
   "cell_type": "code",
   "execution_count": 20,
   "metadata": {},
   "outputs": [
    {
     "output_type": "stream",
     "name": "stdout",
     "text": [
      "Sum of Counts:  6686\n"
     ]
    }
   ],
   "source": [
    "data = load_data()\n",
    "print('Sum of Counts: ', sum(get_unique_chars(data)))"
   ]
  },
  {
   "source": [
    "## Part Two\n",
    "\n",
    "The second part of this says that we have to return the values where everyone answered 'yes'. We should be able to do this as follows:\n",
    "\n",
    "- load the data\n",
    "- break into passenger groups\n",
    "- break this into a unique list\n",
    "- compare the unique lists\n",
    "- return the length of the combined unique values\n",
    "\n",
    "**Update: I couldn't do this. I had to copy a solution online, but I think I was quite close**"
   ],
   "cell_type": "markdown",
   "metadata": {}
  },
  {
   "cell_type": "code",
   "execution_count": 102,
   "metadata": {
    "tags": []
   },
   "outputs": [],
   "source": [
    "with open(\"../data/day-6.txt\", \"r\") as fp:\n",
    "    lines=fp.readlines()\n",
    "\n",
    "groups = []\n",
    "group = []\n",
    "for question in lines:\n",
    "    if question!=\"\\n\":\n",
    "        group.append(question.split(\"\\n\")[0])\n",
    "    else:\n",
    "        groups.append(group)\n",
    "        group=[]\n",
    "groups.append(group)"
   ]
  },
  {
   "cell_type": "code",
   "execution_count": 103,
   "metadata": {},
   "outputs": [
    {
     "output_type": "stream",
     "name": "stdout",
     "text": [
      "Solution 2: 3476\n"
     ]
    }
   ],
   "source": [
    "from collections import Counter\n",
    "total = 0\n",
    "for group in groups:\n",
    "    #print(f\"\\nGroup: {group}\")\n",
    "    group_size = len(group)\n",
    "    #print(f\"Length of group: {group_size}\")\n",
    "\n",
    "    # make single list of enitire group and count occurence\n",
    "    counts = Counter(\"\".join(group))\n",
    "    #print(counts)\n",
    "\n",
    "    counts = Counter(list(counts.values()))[group_size]\n",
    "    total+=counts\n",
    "print(f\"Solution 2:\", total)\n"
   ]
  },
  {
   "cell_type": "code",
   "execution_count": null,
   "metadata": {},
   "outputs": [],
   "source": []
  }
 ]
}