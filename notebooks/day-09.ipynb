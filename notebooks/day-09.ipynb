{
 "metadata": {
  "language_info": {
   "codemirror_mode": {
    "name": "ipython",
    "version": 3
   },
   "file_extension": ".py",
   "mimetype": "text/x-python",
   "name": "python",
   "nbconvert_exporter": "python",
   "pygments_lexer": "ipython3",
   "version": "3.7.9-final"
  },
  "orig_nbformat": 2,
  "kernelspec": {
   "name": "python3",
   "display_name": "Python 3"
  }
 },
 "nbformat": 4,
 "nbformat_minor": 2,
 "cells": [
  {
   "source": [
    "# Day 9 - Encoding Error"
   ],
   "cell_type": "markdown",
   "metadata": {}
  },
  {
   "cell_type": "code",
   "execution_count": 6,
   "metadata": {},
   "outputs": [],
   "source": [
    "import numpy as np"
   ]
  },
  {
   "cell_type": "code",
   "execution_count": 30,
   "metadata": {},
   "outputs": [],
   "source": [
    "def load_data(t):\n",
    "    if t == 'test':\n",
    "        fp = '../data/day-9-test.txt'\n",
    "    elif t == 'full':\n",
    "        fp = '../data/day-9.txt'\n",
    "    else:\n",
    "        raise Exception('Invalid File Input.')\n",
    "    with open(fp, 'r') as f:\n",
    "        lines = f.readlines()\n",
    "        return np.array([int(line.strip()) for line in lines])"
   ]
  },
  {
   "cell_type": "code",
   "execution_count": 62,
   "metadata": {},
   "outputs": [
    {
     "output_type": "execute_result",
     "data": {
      "text/plain": [
       "True"
      ]
     },
     "metadata": {},
     "execution_count": 62
    }
   ],
   "source": [
    "def check_sum_possible(preamble, value):\n",
    "    # taken from day 1\n",
    "    counterpart = value - preamble\n",
    "    a = np.concatenate([preamble, counterpart])\n",
    "    u, c = np.unique(a, return_counts=True)\n",
    "    if any(c > 1):\n",
    "        return True\n",
    "    else:\n",
    "        return False\n",
    "\n",
    "check_sum_possible(np.array([35, 20, 15, 25, 47]), 40)"
   ]
  },
  {
   "cell_type": "code",
   "execution_count": 115,
   "metadata": {},
   "outputs": [],
   "source": [
    "def find_first_invalid_value(dat, preamble_length):\n",
    "    vec = np.arange(0, preamble_length)\n",
    "    i = preamble_length\n",
    "\n",
    "    while True:\n",
    "        \n",
    "        if check_sum_possible(dat[vec], int(dat[i])):\n",
    "            i += 1\n",
    "            vec += 1\n",
    "        else:\n",
    "            return dat[i]"
   ]
  },
  {
   "cell_type": "code",
   "execution_count": 116,
   "metadata": {},
   "outputs": [
    {
     "output_type": "stream",
     "name": "stdout",
     "text": [
      "[35 20 15 25 47]\n"
     ]
    },
    {
     "output_type": "execute_result",
     "data": {
      "text/plain": [
       "127"
      ]
     },
     "metadata": {},
     "execution_count": 116
    }
   ],
   "source": [
    "test_data = load_data('test')\n",
    "print(test_data[0:5])\n",
    "find_first_invalid_value(test_data,5)"
   ]
  },
  {
   "cell_type": "code",
   "execution_count": 117,
   "metadata": {},
   "outputs": [
    {
     "output_type": "execute_result",
     "data": {
      "text/plain": [
       "144381670"
      ]
     },
     "metadata": {},
     "execution_count": 117
    }
   ],
   "source": [
    "data = load_data('full')\n",
    "find_first_invalid_value(data, 25)"
   ]
  },
  {
   "cell_type": "code",
   "execution_count": 129,
   "metadata": {},
   "outputs": [],
   "source": [
    "def get_contiguous_sum(data, target):\n",
    "    i = 1\n",
    "\n",
    "    while True:\n",
    "\n",
    "        s = data[0:i].sum()\n",
    "        if s == target:\n",
    "            return True, [min(data[0:i-1]), max(data[0:i-1])]\n",
    "        elif s > target:\n",
    "            return False, []\n",
    "        else:\n",
    "            i += 1"
   ]
  },
  {
   "cell_type": "code",
   "execution_count": 130,
   "metadata": {},
   "outputs": [
    {
     "output_type": "execute_result",
     "data": {
      "text/plain": [
       "(False, [])"
      ]
     },
     "metadata": {},
     "execution_count": 130
    }
   ],
   "source": [
    "get_contiguous_sum(data, 90)"
   ]
  },
  {
   "cell_type": "code",
   "execution_count": 131,
   "metadata": {},
   "outputs": [],
   "source": [
    "def find_contiguous_range(data, target):\n",
    "    j = 0\n",
    "\n",
    "    while True:\n",
    "        r = get_contiguous_sum(data[j:], target)\n",
    "        if r[0] == True:\n",
    "            return (r[1])\n",
    "        else:\n",
    "            j += 1"
   ]
  },
  {
   "cell_type": "code",
   "execution_count": 132,
   "metadata": {},
   "outputs": [
    {
     "output_type": "execute_result",
     "data": {
      "text/plain": [
       "20532569"
      ]
     },
     "metadata": {},
     "execution_count": 132
    }
   ],
   "source": [
    "sum(find_contiguous_range(data, 144381670))"
   ]
  },
  {
   "cell_type": "code",
   "execution_count": null,
   "metadata": {},
   "outputs": [],
   "source": []
  }
 ]
}